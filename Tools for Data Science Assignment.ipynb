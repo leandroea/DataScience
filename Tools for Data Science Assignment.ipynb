{
 "cells": [
  {
   "cell_type": "markdown",
   "metadata": {},
   "source": [
    "<center>\n",
    "    <img src=\"https://cf-courses-data.s3.us.cloud-object-storage.appdomain.cloud/IBMDeveloperSkillsNetwork-DS0105EN-SkillsNetwork/labs/Module2/images/SN_web_lightmode.png\" width=\"300\" alt=\"cognitiveclass.ai logo\"  />\n",
    "</center>\n"
   ]
  },
  {
   "cell_type": "markdown",
   "metadata": {},
   "source": [
    "#### Add your code below following the instructions given in the course\n"
   ]
  },
  {
   "cell_type": "markdown",
   "metadata": {},
   "source": [
    "# My Jupyter Notebook on IBM Watson Studio"
   ]
  },
  {
   "cell_type": "markdown",
   "metadata": {},
   "source": [
    "Name: **Leandro Eloi Alcatrão**\n",
    "\n",
    "\n",
    "Current occupation: Electronic Engineer"
   ]
  },
  {
   "cell_type": "markdown",
   "metadata": {},
   "source": [
    "*I am interested in data science because I find it fascinating. It is a great opportunity to learn new skills and use my background as a programmer.*"
   ]
  },
  {
   "cell_type": "markdown",
   "metadata": {
    "tags": []
   },
   "source": [
    "### In the next cell goes a simple python program that prints a greeting, my name and my age."
   ]
  },
  {
   "cell_type": "code",
   "execution_count": 10,
   "metadata": {},
   "outputs": [
    {
     "name": "stdout",
     "output_type": "stream",
     "text": [
      "Hi there!\n",
      "My name is Leandro.\n",
      "I am 39 years old.\n"
     ]
    }
   ],
   "source": [
    "my_name = \"Leandro\"\n",
    "my_age = \"39\"\n",
    "print(\"Hi there!\")\n",
    "print(\"My name is \" + my_name + \".\")\n",
    "print(\"I am \" + my_age + \" years old.\")"
   ]
  },
  {
   "cell_type": "markdown",
   "metadata": {},
   "source": [
    "![alt text](https://upload.wikimedia.org/wikipedia/commons/thumb/5/51/IBM_logo.svg/2560px-IBM_logo.svg.png \"IBM Logo\")\n",
    "\n",
    "---\n",
    "\n",
    "IBM Data Science Certificate: Tools for Data Science\n",
    "\n",
    "---\n",
    "In this module, I got an overview of the programming languages commonly used, including: \n",
    "1. Python\n",
    "2. R\n",
    "3. Scala\n",
    "4. SQL.\n",
    "\n",
    "I was introduced to the open source and commercial data science tools available. I also learned about:\n",
    "* APIs\n",
    "* datasets\n",
    "* models\n",
    "* libraries\n",
    "* ~~C and C++.~~ (sorry, that was on another course)\n",
    "\n",
    "I think the following lines of code are the most common when you start learning python:\n",
    "\n",
    "```python\n",
    "# Print \"Hello World\"\n",
    "print(\"Hello World\")\n",
    "\n",
    "# some variables and + operation:\n",
    "a = 1\n",
    "b = 2\n",
    "print(a + b)\n",
    "```\n",
    "\n",
    "Here goes my favorite quote:\n",
    "> “The best way to learn data science is to do data science.” — Chanin Nantasenamat\n"
   ]
  },
  {
   "cell_type": "code",
   "execution_count": null,
   "metadata": {},
   "outputs": [],
   "source": []
  }
 ],
 "metadata": {
  "kernelspec": {
   "display_name": "Python",
   "language": "python",
   "name": "conda-env-python-py"
  },
  "language_info": {
   "codemirror_mode": {
    "name": "ipython",
    "version": 3
   },
   "file_extension": ".py",
   "mimetype": "text/x-python",
   "name": "python",
   "nbconvert_exporter": "python",
   "pygments_lexer": "ipython3",
   "version": "3.7.12"
  }
 },
 "nbformat": 4,
 "nbformat_minor": 4
}
